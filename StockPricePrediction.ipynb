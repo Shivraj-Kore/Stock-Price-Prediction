{
 "cells": [
  {
   "cell_type": "code",
   "execution_count": 1,
   "id": "df012e83-e5b3-445f-98ff-986cfbded898",
   "metadata": {},
   "outputs": [],
   "source": [
    "import os\n",
    "import numpy as np \n",
    "import pandas as pd\n",
    "import matplotlib.pyplot as plt\n",
    "%matplotlib inline"
   ]
  },
  {
   "cell_type": "code",
   "execution_count": 2,
   "id": "88abd42b-9b0b-47b9-bfc8-14a1fe4d4127",
   "metadata": {},
   "outputs": [
    {
     "name": "stdout",
     "output_type": "stream",
     "text": [
      "<class 'pandas.core.frame.DataFrame'>\n",
      "RangeIndex: 250 entries, 0 to 249\n",
      "Data columns (total 7 columns):\n",
      " #   Column     Non-Null Count  Dtype  \n",
      "---  ------     --------------  -----  \n",
      " 0   Date       250 non-null    object \n",
      " 1   Open       250 non-null    float64\n",
      " 2   High       250 non-null    float64\n",
      " 3   Low        250 non-null    float64\n",
      " 4   Close      250 non-null    float64\n",
      " 5   Adj Close  250 non-null    float64\n",
      " 6   Volume     250 non-null    int64  \n",
      "dtypes: float64(5), int64(1), object(1)\n",
      "memory usage: 13.8+ KB\n"
     ]
    }
   ],
   "source": [
    "dataset_train = pd.read_csv(\"MSFT.csv\")\n",
    "dataset_train.info()"
   ]
  },
  {
   "cell_type": "code",
   "execution_count": 3,
   "id": "da39053a-f225-4c9c-9c24-90fb601c6348",
   "metadata": {},
   "outputs": [
    {
     "data": {
      "text/html": [
       "<div>\n",
       "<style scoped>\n",
       "    .dataframe tbody tr th:only-of-type {\n",
       "        vertical-align: middle;\n",
       "    }\n",
       "\n",
       "    .dataframe tbody tr th {\n",
       "        vertical-align: top;\n",
       "    }\n",
       "\n",
       "    .dataframe thead th {\n",
       "        text-align: right;\n",
       "    }\n",
       "</style>\n",
       "<table border=\"1\" class=\"dataframe\">\n",
       "  <thead>\n",
       "    <tr style=\"text-align: right;\">\n",
       "      <th></th>\n",
       "      <th>Date</th>\n",
       "      <th>Open</th>\n",
       "      <th>High</th>\n",
       "      <th>Low</th>\n",
       "      <th>Close</th>\n",
       "      <th>Adj Close</th>\n",
       "      <th>Volume</th>\n",
       "    </tr>\n",
       "  </thead>\n",
       "  <tbody>\n",
       "    <tr>\n",
       "      <th>0</th>\n",
       "      <td>2023-03-13</td>\n",
       "      <td>247.399994</td>\n",
       "      <td>257.910004</td>\n",
       "      <td>245.729996</td>\n",
       "      <td>253.919998</td>\n",
       "      <td>251.852966</td>\n",
       "      <td>33339700</td>\n",
       "    </tr>\n",
       "    <tr>\n",
       "      <th>1</th>\n",
       "      <td>2023-03-14</td>\n",
       "      <td>256.750000</td>\n",
       "      <td>261.070007</td>\n",
       "      <td>255.860001</td>\n",
       "      <td>260.790009</td>\n",
       "      <td>258.667053</td>\n",
       "      <td>33620300</td>\n",
       "    </tr>\n",
       "    <tr>\n",
       "      <th>2</th>\n",
       "      <td>2023-03-15</td>\n",
       "      <td>259.980011</td>\n",
       "      <td>266.480011</td>\n",
       "      <td>259.209991</td>\n",
       "      <td>265.440002</td>\n",
       "      <td>263.279175</td>\n",
       "      <td>46028000</td>\n",
       "    </tr>\n",
       "    <tr>\n",
       "      <th>3</th>\n",
       "      <td>2023-03-16</td>\n",
       "      <td>265.209991</td>\n",
       "      <td>276.559998</td>\n",
       "      <td>263.279999</td>\n",
       "      <td>276.200012</td>\n",
       "      <td>273.951599</td>\n",
       "      <td>54768800</td>\n",
       "    </tr>\n",
       "    <tr>\n",
       "      <th>4</th>\n",
       "      <td>2023-03-17</td>\n",
       "      <td>278.260010</td>\n",
       "      <td>283.329987</td>\n",
       "      <td>276.320007</td>\n",
       "      <td>279.429993</td>\n",
       "      <td>277.155304</td>\n",
       "      <td>69527400</td>\n",
       "    </tr>\n",
       "  </tbody>\n",
       "</table>\n",
       "</div>"
      ],
      "text/plain": [
       "         Date        Open        High         Low       Close   Adj Close  \\\n",
       "0  2023-03-13  247.399994  257.910004  245.729996  253.919998  251.852966   \n",
       "1  2023-03-14  256.750000  261.070007  255.860001  260.790009  258.667053   \n",
       "2  2023-03-15  259.980011  266.480011  259.209991  265.440002  263.279175   \n",
       "3  2023-03-16  265.209991  276.559998  263.279999  276.200012  273.951599   \n",
       "4  2023-03-17  278.260010  283.329987  276.320007  279.429993  277.155304   \n",
       "\n",
       "     Volume  \n",
       "0  33339700  \n",
       "1  33620300  \n",
       "2  46028000  \n",
       "3  54768800  \n",
       "4  69527400  "
      ]
     },
     "execution_count": 3,
     "metadata": {},
     "output_type": "execute_result"
    }
   ],
   "source": [
    "dataset_train.head()"
   ]
  },
  {
   "cell_type": "code",
   "execution_count": 4,
   "id": "b517b73d-e318-465a-9272-4062410bebe7",
   "metadata": {},
   "outputs": [],
   "source": [
    "train_set = dataset_train.iloc[: , 1 : 2]"
   ]
  },
  {
   "cell_type": "code",
   "execution_count": 5,
   "id": "aeb079b4-f2f7-4072-8899-5697699aceb6",
   "metadata": {},
   "outputs": [
    {
     "name": "stdout",
     "output_type": "stream",
     "text": [
      "           Open\n",
      "0    247.399994\n",
      "1    256.750000\n",
      "2    259.980011\n",
      "3    265.209991\n",
      "4    278.260010\n",
      "..          ...\n",
      "245  413.440002\n",
      "246  413.959991\n",
      "247  402.970001\n",
      "248  406.119995\n",
      "249  407.959991\n",
      "\n",
      "[250 rows x 1 columns]\n"
     ]
    }
   ],
   "source": [
    "print(train_set)"
   ]
  },
  {
   "cell_type": "code",
   "execution_count": 8,
   "id": "4f94ec19-f60e-4100-b1d9-80d28e0f4eae",
   "metadata": {},
   "outputs": [
    {
     "name": "stdout",
     "output_type": "stream",
     "text": [
      "(250, 1)\n"
     ]
    }
   ],
   "source": [
    "print(train_set.shape)"
   ]
  },
  {
   "cell_type": "code",
   "execution_count": 11,
   "id": "0a069807-5255-48cc-912a-5499856fa116",
   "metadata": {},
   "outputs": [
    {
     "data": {
      "text/plain": [
       "array([[0.        ],\n",
       "       [0.05399634],\n",
       "       [0.07264967],\n",
       "       [0.10285283],\n",
       "       [0.17821677],\n",
       "       [0.17082477],\n",
       "       [0.15869722],\n",
       "       [0.15015015],\n",
       "       [0.17636872],\n",
       "       [0.17232615],\n",
       "       [0.19115272],\n",
       "       [0.1639525 ],\n",
       "       [0.18225916],\n",
       "       [0.21269356],\n",
       "       [0.20980605],\n",
       "       [0.22591819],\n",
       "       [0.23001857],\n",
       "       [0.22204904],\n",
       "       [0.20680293],\n",
       "       [0.24145297],\n",
       "       [0.2214715 ],\n",
       "       [0.21592755],\n",
       "       [0.20899747],\n",
       "       [0.22869026],\n",
       "       [0.24561098],\n",
       "       [0.25508207],\n",
       "       [0.22285744],\n",
       "       [0.218584  ],\n",
       "       [0.21719805],\n",
       "       [0.20033496],\n",
       "       [0.18543552],\n",
       "       [0.28470788],\n",
       "       [0.28049206],\n",
       "       [0.32692316],\n",
       "       [0.34401713],\n",
       "       [0.34857943],\n",
       "       [0.34199584],\n",
       "       [0.33980131],\n",
       "       [0.33679837],\n",
       "       [0.36226617],\n",
       "       [0.34996538],\n",
       "       [0.35354585],\n",
       "       [0.36209292],\n",
       "       [0.36469157],\n",
       "       [0.35631792],\n",
       "       [0.36053356],\n",
       "       [0.3747402 ],\n",
       "       [0.38767616],\n",
       "       [0.40043887],\n",
       "       [0.41118047],\n",
       "       [0.41943869],\n",
       "       [0.38883123],\n",
       "       [0.4379764 ],\n",
       "       [0.4424809 ],\n",
       "       [0.50721884],\n",
       "       [0.49024032],\n",
       "       [0.45351119],\n",
       "       [0.50155927],\n",
       "       [0.50716104],\n",
       "       [0.50779621],\n",
       "       [0.48654423],\n",
       "       [0.44201898],\n",
       "       [0.44808266],\n",
       "       [0.46881492],\n",
       "       [0.50282978],\n",
       "       [0.502079  ],\n",
       "       [0.52021261],\n",
       "       [0.60013866],\n",
       "       [0.53078079],\n",
       "       [0.51380226],\n",
       "       [0.5008085 ],\n",
       "       [0.50219444],\n",
       "       [0.49849853],\n",
       "       [0.48775692],\n",
       "       [0.50392705],\n",
       "       [0.50421573],\n",
       "       [0.52177179],\n",
       "       [0.53008781],\n",
       "       [0.50641026],\n",
       "       [0.51917297],\n",
       "       [0.53083859],\n",
       "       [0.50358056],\n",
       "       [0.483137  ],\n",
       "       [0.51513057],\n",
       "       [0.53222454],\n",
       "       [0.57859783],\n",
       "       [0.56756755],\n",
       "       [0.56843376],\n",
       "       [0.66037193],\n",
       "       [0.61313242],\n",
       "       [0.58760682],\n",
       "       [0.56854937],\n",
       "       [0.57582576],\n",
       "       [0.54308158],\n",
       "       [0.53753762],\n",
       "       [0.49820985],\n",
       "       [0.51697861],\n",
       "       [0.50698779],\n",
       "       [0.4979788 ],\n",
       "       [0.45391548],\n",
       "       [0.48787254],\n",
       "       [0.46760221],\n",
       "       [0.45945943],\n",
       "       [0.45662974],\n",
       "       [0.45403091],\n",
       "       [0.420767  ],\n",
       "       [0.42729279],\n",
       "       [0.43659046],\n",
       "       [0.42388538],\n",
       "       [0.422384  ],\n",
       "       [0.38744511],\n",
       "       [0.40731114],\n",
       "       [0.45102798],\n",
       "       [0.44132601],\n",
       "       [0.4934743 ],\n",
       "       [0.42775471],\n",
       "       [0.451952  ],\n",
       "       [0.43012248],\n",
       "       [0.46933482],\n",
       "       [0.47239557],\n",
       "       [0.48458075],\n",
       "       [0.4712405 ],\n",
       "       [0.49653505],\n",
       "       [0.48446531],\n",
       "       [0.47753523],\n",
       "       [0.51882648],\n",
       "       [0.51062607],\n",
       "       [0.48458075],\n",
       "       [0.52985677],\n",
       "       [0.51697861],\n",
       "       [0.46431042],\n",
       "       [0.4548973 ],\n",
       "       [0.47418581],\n",
       "       [0.414992  ],\n",
       "       [0.42688849],\n",
       "       [0.39957265],\n",
       "       [0.3911412 ],\n",
       "       [0.37479783],\n",
       "       [0.36723259],\n",
       "       [0.40627168],\n",
       "       [0.39778242],\n",
       "       [0.42405862],\n",
       "       [0.38478865],\n",
       "       [0.41401017],\n",
       "       [0.39934161],\n",
       "       [0.44669672],\n",
       "       [0.48255945],\n",
       "       [0.48400321],\n",
       "       [0.48030729],\n",
       "       [0.49076004],\n",
       "       [0.48307919],\n",
       "       [0.47464773],\n",
       "       [0.49139521],\n",
       "       [0.48943173],\n",
       "       [0.48694852],\n",
       "       [0.45085473],\n",
       "       [0.48452294],\n",
       "       [0.56375602],\n",
       "       [0.53788411],\n",
       "       [0.47949871],\n",
       "       [0.49670829],\n",
       "       [0.52812434],\n",
       "       [0.53355286],\n",
       "       [0.57657654],\n",
       "       [0.59037889],\n",
       "       [0.61243945],\n",
       "       [0.64680063],\n",
       "       [0.65996764],\n",
       "       [0.66354811],\n",
       "       [0.65887037],\n",
       "       [0.69773622],\n",
       "       [0.71384854],\n",
       "       [0.71540773],\n",
       "       [0.71355968],\n",
       "       [0.72886341],\n",
       "       [0.71506124],\n",
       "       [0.74076008],\n",
       "       [0.75421577],\n",
       "       [0.75034644],\n",
       "       [0.74717026],\n",
       "       [0.75623706],\n",
       "       [0.78747986],\n",
       "       [0.75704547],\n",
       "       [0.74705482],\n",
       "       [0.70281826],\n",
       "       [0.68751453],\n",
       "       [0.7284593 ],\n",
       "       [0.69779403],\n",
       "       [0.70339579],\n",
       "       [0.69923778],\n",
       "       [0.71292452],\n",
       "       [0.7427812 ],\n",
       "       [0.72713098],\n",
       "       [0.68982449],\n",
       "       [0.70483954],\n",
       "       [0.71662043],\n",
       "       [0.73689075],\n",
       "       [0.72279973],\n",
       "       [0.72926771],\n",
       "       [0.73689075],\n",
       "       [0.72932551],\n",
       "       [0.73902748],\n",
       "       [0.74266576],\n",
       "       [0.73030716],\n",
       "       [0.70229853],\n",
       "       [0.71188506],\n",
       "       [0.70206748],\n",
       "       [0.70397315],\n",
       "       [0.71962355],\n",
       "       [0.74480248],\n",
       "       [0.80041582],\n",
       "       [0.79747051],\n",
       "       [0.84465238],\n",
       "       [0.81185039],\n",
       "       [0.83344885],\n",
       "       [0.85677993],\n",
       "       [0.88138133],\n",
       "       [0.85672212],\n",
       "       [0.89015946],\n",
       "       [0.90621396],\n",
       "       [0.90650264],\n",
       "       [0.91626242],\n",
       "       [0.95206752],\n",
       "       [0.92145988],\n",
       "       [0.89183408],\n",
       "       [0.90326866],\n",
       "       [0.93843842],\n",
       "       [0.91522296],\n",
       "       [0.92423195],\n",
       "       [0.96240466],\n",
       "       [0.96933473],\n",
       "       [1.        ],\n",
       "       [0.90979443],\n",
       "       [0.92787023],\n",
       "       [0.92827453],\n",
       "       [0.92723489],\n",
       "       [0.89997686],\n",
       "       [0.88224772],\n",
       "       [0.94011321],\n",
       "       [0.97176031],\n",
       "       [0.94744741],\n",
       "       [0.92740813],\n",
       "       [0.9285054 ],\n",
       "       [0.93116203],\n",
       "       [0.94635015],\n",
       "       [0.95888198],\n",
       "       [0.96188492],\n",
       "       [0.89841767],\n",
       "       [0.9166089 ],\n",
       "       [0.92723489]])"
      ]
     },
     "execution_count": 11,
     "metadata": {},
     "output_type": "execute_result"
    }
   ],
   "source": [
    "from sklearn.preprocessing import MinMaxScaler\n",
    "scaler = MinMaxScaler(feature_range=(0,1))\n",
    "scaled_training_set = scaler.fit_transform(train_set)\n",
    "scaled_training_set"
   ]
  },
  {
   "cell_type": "code",
   "execution_count": 25,
   "id": "89041e22-d526-474e-bd0a-21406a65944a",
   "metadata": {},
   "outputs": [],
   "source": [
    "X_train = []\n",
    "y_train = []\n",
    "\n",
    "n = len(scaled_training_set)\n",
    "train_size = int(n * 0.8)\n",
    "\n",
    "for i in range(30, train_size):\n",
    "    X_train.append(scaled_training_set[i - 30:i, 0])\n",
    "    y_train.append(scaled_training_set[i, 0])\n",
    "\n",
    "X_train = np.array(X_train)\n",
    "y_train = np.array(y_train)\n"
   ]
  },
  {
   "cell_type": "code",
   "execution_count": 26,
   "id": "9d041235-64b4-4dce-8e24-280b4016140b",
   "metadata": {},
   "outputs": [
    {
     "name": "stdout",
     "output_type": "stream",
     "text": [
      "(170, 30)\n",
      "(170,)\n"
     ]
    }
   ],
   "source": [
    "print(X_train.shape)\n",
    "print(y_train.shape)"
   ]
  },
  {
   "cell_type": "code",
   "execution_count": 29,
   "id": "c27ce393-02f7-4902-ac2f-d7d4c19348e3",
   "metadata": {},
   "outputs": [],
   "source": [
    "from keras.models import Sequential\n",
    "from keras.layers import LSTM\n",
    "from keras.layers import Dense\n",
    "from keras.layers import Dropout"
   ]
  },
  {
   "cell_type": "code",
   "execution_count": 30,
   "id": "38d67d2d-2760-46ba-a50c-84973577fb47",
   "metadata": {},
   "outputs": [],
   "source": [
    "regressor = Sequential()\n",
    "\n",
    "regressor.add(LSTM(units=50 , return_sequences = True , input_shape = (X_train.shape[1] , 1)))\n",
    "regressor.add(Dropout(0.2))\n",
    "\n",
    "regressor.add(LSTM(units=50 , return_sequences = True ))\n",
    "regressor.add(Dropout(0.2))\n",
    "\n",
    "regressor.add(LSTM(units=50 , return_sequences = True ))\n",
    "regressor.add(Dropout(0.2))\n",
    "\n",
    "regressor.add(LSTM(units=50))\n",
    "regressor.add(Dropout(0.2))\n",
    "\n",
    "regressor.add(Dense(units=1))\n"
   ]
  },
  {
   "cell_type": "code",
   "execution_count": 31,
   "id": "74bfde3a-e783-48e9-9190-f94c37130b18",
   "metadata": {},
   "outputs": [
    {
     "name": "stdout",
     "output_type": "stream",
     "text": [
      "Epoch 1/10\n",
      "11/11 [==============================] - 6s 22ms/step - loss: 0.0833\n",
      "Epoch 2/10\n",
      "11/11 [==============================] - 0s 22ms/step - loss: 0.0162\n",
      "Epoch 3/10\n",
      "11/11 [==============================] - 0s 22ms/step - loss: 0.0097\n",
      "Epoch 4/10\n",
      "11/11 [==============================] - 0s 23ms/step - loss: 0.0106\n",
      "Epoch 5/10\n",
      "11/11 [==============================] - 0s 22ms/step - loss: 0.0099\n",
      "Epoch 6/10\n",
      "11/11 [==============================] - 0s 22ms/step - loss: 0.0094\n",
      "Epoch 7/10\n",
      "11/11 [==============================] - 0s 23ms/step - loss: 0.0092\n",
      "Epoch 8/10\n",
      "11/11 [==============================] - 0s 21ms/step - loss: 0.0086\n",
      "Epoch 9/10\n",
      "11/11 [==============================] - 0s 22ms/step - loss: 0.0078\n",
      "Epoch 10/10\n",
      "11/11 [==============================] - 0s 22ms/step - loss: 0.0082\n"
     ]
    },
    {
     "data": {
      "text/plain": [
       "<keras.src.callbacks.History at 0x27a82e906d0>"
      ]
     },
     "execution_count": 31,
     "metadata": {},
     "output_type": "execute_result"
    }
   ],
   "source": [
    "regressor.compile(optimizer = 'adam' , loss = 'mean_squared_error')\n",
    "regressor.fit(X_train , y_train , epochs=10 , batch_size = 16 )"
   ]
  },
  {
   "cell_type": "code",
   "execution_count": 46,
   "id": "2b4bb9c8-6f3d-44fd-bc9f-d5cb487c7f32",
   "metadata": {},
   "outputs": [],
   "source": [
    "dataset_test = pd.read_csv(\"MSFT.csv\")\n",
    "actual_stock_price = dataset_test.iloc[:, 1 : 2].values"
   ]
  },
  {
   "cell_type": "code",
   "execution_count": 47,
   "id": "64ff4d80-8d92-4a51-91af-78749ece2236",
   "metadata": {},
   "outputs": [],
   "source": [
    "X_test = []\n",
    "\n",
    "for i in range(60, len(inputs)):\n",
    "    X_test.append(inputs[i - 30: i, 0])\n",
    "\n",
    "# Zero-padding\n",
    "max_length = max(len(x) for x in X_test)\n",
    "X_test_padded = [np.pad(x, (0, max_length - len(x)), 'constant') for x in X_test]\n",
    "\n",
    "X_test = np.array(X_test_padded)\n",
    "X_test = np.array(X_test).reshape((X_test.shape[0], X_test.shape[1], 1))\n"
   ]
  },
  {
   "cell_type": "code",
   "execution_count": 48,
   "id": "586fb1f4-9644-4d99-9b6e-8e763df10552",
   "metadata": {},
   "outputs": [
    {
     "name": "stdout",
     "output_type": "stream",
     "text": [
      "7/7 [==============================] - 0s 9ms/step\n"
     ]
    }
   ],
   "source": [
    "predicted_price = regressor.predict(X_test)\n",
    "predicted_price = scaler.inverse_transform(predicted_price)"
   ]
  },
  {
   "cell_type": "code",
   "execution_count": 53,
   "id": "0e7afc5a-ed56-43ef-92a9-2d678412612a",
   "metadata": {},
   "outputs": [
    {
     "data": {
      "text/plain": [
       "Text(0.5, 0, 'Stock Price')"
      ]
     },
     "execution_count": 53,
     "metadata": {},
     "output_type": "execute_result"
    },
    {
     "data": {
      "image/png": "[encoded data removed]",
      "text/plain": [
       "<Figure size 640x480 with 1 Axes>"
      ]
     },
     "metadata": {},
     "output_type": "display_data"
    }
   ],
   "source": [
    "plt.plot(actual_stock_price , color = \"#5100FF\" , label = \"Actual Stock Price\") \n",
    "plt.plot(predicted_price , color = \"#FC0317\" , label = \"Predicted Stock Price\")\n",
    "plt.title(\"Stock Price prediction\")\n",
    "plt.xlabel(\"Time\")\n",
    "plt.xlabel(\"Stock Price\")"
   ]
  },
  {
   "cell_type": "code",
   "execution_count": null,
   "id": "55be8901-62cd-4c5e-9171-992f23482f42",
   "metadata": {},
   "outputs": [],
   "source": []
  }
 ],
 "metadata": {
  "kernelspec": {
   "display_name": "Python 3 (ipykernel)",
   "language": "python",
   "name": "python3"
  },
  "language_info": {
   "codemirror_mode": {
    "name": "ipython",
    "version": 3
   },
   "file_extension": ".py",
   "mimetype": "text/x-python",
   "name": "python",
   "nbconvert_exporter": "python",
   "pygments_lexer": "ipython3",
   "version": "3.11.3"
  }
 },
 "nbformat": 4,
 "nbformat_minor": 5
}
